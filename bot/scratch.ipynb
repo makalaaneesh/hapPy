{
 "cells": [
  {
   "cell_type": "code",
   "execution_count": 10,
   "metadata": {},
   "outputs": [],
   "source": [
    "from bot.airflow_helpers import twitter_helper"
   ]
  },
  {
   "cell_type": "code",
   "execution_count": 11,
   "metadata": {},
   "outputs": [],
   "source": [
    "auth = twitter_helper._get_auth()\n",
    "api = twitter_helper._get_api(auth)"
   ]
  },
  {
   "cell_type": "code",
   "execution_count": 21,
   "metadata": {},
   "outputs": [],
   "source": [
    "result = api.statuses_lookup([\"1219607934142832640\"])"
   ]
  },
  {
   "cell_type": "code",
   "execution_count": 23,
   "metadata": {},
   "outputs": [
    {
     "data": {
      "text/plain": [
       "False"
      ]
     },
     "execution_count": 23,
     "metadata": {},
     "output_type": "execute_result"
    }
   ],
   "source": [
    "bool(result)"
   ]
  },
  {
   "cell_type": "code",
   "execution_count": null,
   "metadata": {},
   "outputs": [],
   "source": [
    "from bot.airflow_helpers.quotes import get_uplifting_quote\n",
    "print(get_uplifting_quote(\"a\"))"
   ]
  },
  {
   "cell_type": "code",
   "execution_count": null,
   "metadata": {},
   "outputs": [],
   "source": []
  },
  {
   "cell_type": "code",
   "execution_count": null,
   "metadata": {},
   "outputs": [],
   "source": [
    "key = \"293403068b6b8ec8c1b1b266e0243d2d4a39d75a\"\n",
    "\n",
    "import requests, json\n",
    "\n",
    "\n",
    "tags = \"life,motivation\"\n",
    "# PAPERQUOTES_API_ENDPOINT = 'http://api.paperquotes.com/apiv1/quotes?curated=1&tags={tags}&limit=100'.format(tags=tags)\n",
    "author = \"Johann Hari\"\n",
    "PAPERQUOTES_API_ENDPOINT = \"http://api.paperquotes.com/apiv1/quotes/?author={0}&limit=100\".format(author,)\n",
    "TOKEN = key\n",
    "response = requests.get(PAPERQUOTES_API_ENDPOINT, headers={'Authorization': 'TOKEN {}'.format(TOKEN)})\n",
    "\n",
    "if response.ok:\n",
    "\n",
    "    quotes = json.loads(response.text).get('results')\n",
    "\n",
    "    for quote in quotes:\n",
    "        print('\"'+quote.get('quote').split(\".\")[0]+ '\" -'+ quote.get('quote').split(\".\")[1])"
   ]
  },
  {
   "cell_type": "code",
   "execution_count": null,
   "metadata": {},
   "outputs": [],
   "source": [
    "from bs4 import BeautifulSoup\n",
    "import requests\n",
    "import re\n",
    "import json\n",
    "import random\n",
    "\n",
    "cat_list = []\n",
    "cat_dir = {\n",
    "\t\"cat\" : cat_list\n",
    "}\n",
    "page_list = [] \n",
    "quotes_list = []\n",
    "\n",
    "def category():\n",
    "\tcategory_url = 'http://www.brainyquote.com/quotes/topics.html'\n",
    "\thtml = requests.get(category_url) #requesting url\n",
    "\tsoup = BeautifulSoup(html.text) #making soup for scrappig \n",
    "\tcategory = soup.find_all('a',{\"href\" : re.compile(\"/quotes/topics/topic_\")}) #to find tag \"a\" who contains category\n",
    "\tfor name in category:\n",
    "\t\tcat_list.append(name.text)\n",
    "\n",
    "\treturn json.dumps(cat_dir) \n",
    "\n",
    "def pages(category):\n",
    "\turl = \"http://www.brainyquote.com/quotes/topics/topic_\" + category + \".html\"\n",
    "\thtml = requests.get(url)\n",
    "\tsoup = BeautifulSoup(html.text)\n",
    "\tdiv = soup.find('div',{\"class\":\"quote-nav-msnry \"})#to find total pages\n",
    "\tfor li in div.find_all('li'):\n",
    "\t\tpage_list.append(li) #we need second last li so appending to list\n",
    "\ttotal_pages = page_list[len(page_list) - 2].text #here we have total number of pages\n",
    "\treturn total_pages\n",
    "\n",
    "def quotes(category):\n",
    "# \tp = int(pages(category))\n",
    "# \tpage = range(1,p+1)\n",
    "# \trandom_page = random.choice(page)\n",
    "    random_page = 1\n",
    "    url = \"http://www.brainyquote.com/quotes/topics/topic_\" + category + str(random_page) + \".html\"\n",
    "    html = requests.get(url)\n",
    "    soup = BeautifulSoup(html.text)\n",
    "    a_quotes =  soup.find_all('a',title='view quote')\n",
    "    for each in a_quotes:\n",
    "        import pdb; pdb.set_trace()\n",
    "        print(dir(each))\n",
    "        quotes_list.append(each.text)\n",
    "    random_quote = { \"quote\" : random.choice(quotes_list)}\n",
    "    return random_quote\n",
    "\n",
    "\n",
    "quotes(\"life\")"
   ]
  },
  {
   "cell_type": "code",
   "execution_count": null,
   "metadata": {},
   "outputs": [],
   "source": []
  },
  {
   "cell_type": "code",
   "execution_count": 1,
   "metadata": {},
   "outputs": [],
   "source": [
    "from bot.airflow_helpers.twitter_helper import send_tweet"
   ]
  },
  {
   "cell_type": "code",
   "execution_count": 4,
   "metadata": {},
   "outputs": [],
   "source": [
    "api_kwargs = {'text': '@WinkleDinkleJr \"Gratitude for the present moment and the fullness of life now is the true prosperity\" - Eckhart Tolle\\n #happiness #MentalHealth #MentalHealthAwareness',\n",
    "              'in_reply_to_status_id': '1219545587252649984'}\n",
    "\n"
   ]
  },
  {
   "cell_type": "code",
   "execution_count": 5,
   "metadata": {},
   "outputs": [
    {
     "name": "stdout",
     "output_type": "stream",
     "text": [
      "twitter send {'status': '@WinkleDinkleJr \"Gratitude for the present moment and the fullness of life now is the true prosperity\" - Eckhart Tolle\\n #happiness #MentalHealth #MentalHealthAwareness', 'in_reply_to_status_id': '1219545587252649984'}\n"
     ]
    }
   ],
   "source": [
    "send_tweet(**api_kwargs)"
   ]
  },
  {
   "cell_type": "code",
   "execution_count": 7,
   "metadata": {},
   "outputs": [],
   "source": [
    "from datetime import datetime"
   ]
  },
  {
   "cell_type": "code",
   "execution_count": 9,
   "metadata": {},
   "outputs": [
    {
     "data": {
      "text/plain": [
       "'2020-01-21 18:39:05.571700'"
      ]
     },
     "execution_count": 9,
     "metadata": {},
     "output_type": "execute_result"
    }
   ],
   "source": [
    "str(datetime.now())"
   ]
  },
  {
   "cell_type": "code",
   "execution_count": null,
   "metadata": {},
   "outputs": [],
   "source": [
    "send_tweet(\"I'm here to spread happiness and awareness about mental health :)\", in_reply_to_status_id=\"1219573212385689601\")"
   ]
  },
  {
   "cell_type": "code",
   "execution_count": null,
   "metadata": {},
   "outputs": [],
   "source": [
    "import wordcloud\n",
    "import matplotlib.pyplot as plt"
   ]
  },
  {
   "cell_type": "code",
   "execution_count": null,
   "metadata": {},
   "outputs": [],
   "source": [
    "word_count = {'feel': 11,\n",
    " 'empty': 3,\n",
    " 'telling': 1,\n",
    " 'someone': 5,\n",
    " 'can’t': 8,\n",
    " 'life': 67,\n",
    " 'anymore': 5,\n",
    " 'fuck': 5,\n",
    " 'everything': 3,\n",
    " 'try': 1,\n",
    " 'make': 4,\n",
    " 'things': 2,\n",
    " 'better': 2,\n",
    " 'normal': 3}\n"
   ]
  },
  {
   "cell_type": "code",
   "execution_count": null,
   "metadata": {},
   "outputs": [],
   "source": [
    "wordcloud.WordCloud?"
   ]
  },
  {
   "cell_type": "code",
   "execution_count": null,
   "metadata": {},
   "outputs": [],
   "source": [
    "wc_class = wordcloud.WordCloud(background_color='white')\n",
    "\n",
    "wc = wc_class.generate_from_frequencies(word_count)"
   ]
  },
  {
   "cell_type": "code",
   "execution_count": null,
   "metadata": {},
   "outputs": [],
   "source": [
    "img = wc.to_image()"
   ]
  },
  {
   "cell_type": "code",
   "execution_count": null,
   "metadata": {},
   "outputs": [],
   "source": [
    "img.save??"
   ]
  },
  {
   "cell_type": "code",
   "execution_count": null,
   "metadata": {},
   "outputs": [],
   "source": [
    "from io import BytesIO\n",
    "import base64\n",
    "\n",
    "output = BytesIO()\n",
    "img.save(output, format='PNG')\n",
    "output.seek(0)\n",
    "output_s = output.read()\n",
    "b64 = base64.b64encode(output_s)\n",
    "# return \n",
    "b64"
   ]
  },
  {
   "cell_type": "code",
   "execution_count": null,
   "metadata": {},
   "outputs": [],
   "source": [
    "plt.imshow(wc.to_image())\n",
    "plt.axis(\"off\")\n",
    "plt.show()"
   ]
  },
  {
   "cell_type": "code",
   "execution_count": null,
   "metadata": {},
   "outputs": [],
   "source": [
    "plt.imshow(wc, interpolation='bilinear')\n",
    "plt.axis(\"off\")\n",
    "plt.show()"
   ]
  },
  {
   "cell_type": "code",
   "execution_count": null,
   "metadata": {},
   "outputs": [],
   "source": [
    "\"don't\" in wordcloud.STOPWORDS"
   ]
  },
  {
   "cell_type": "code",
   "execution_count": null,
   "metadata": {},
   "outputs": [],
   "source": [
    "import pymongo"
   ]
  },
  {
   "cell_type": "code",
   "execution_count": null,
   "metadata": {},
   "outputs": [],
   "source": [
    "client = pymongo.MongoClient()"
   ]
  },
  {
   "cell_type": "code",
   "execution_count": null,
   "metadata": {},
   "outputs": [],
   "source": [
    "db = client.happy"
   ]
  },
  {
   "cell_type": "code",
   "execution_count": null,
   "metadata": {},
   "outputs": [],
   "source": [
    "docs = db.word_count.find().sort(\"count\", -1).limit(20)\n",
    "for doc in docs:\n",
    "    print(doc)"
   ]
  },
  {
   "cell_type": "code",
   "execution_count": null,
   "metadata": {},
   "outputs": [],
   "source": [
    "coll = db.tweets"
   ]
  },
  {
   "cell_type": "code",
   "execution_count": null,
   "metadata": {},
   "outputs": [],
   "source": [
    "cursor = coll.find({'_id': {\"$in\": [\"1218914127810301953\"]} })\n",
    "for doc in cursor:\n",
    "    print(doc)"
   ]
  },
  {
   "cell_type": "code",
   "execution_count": null,
   "metadata": {},
   "outputs": [],
   "source": []
  },
  {
   "cell_type": "code",
   "execution_count": null,
   "metadata": {},
   "outputs": [],
   "source": [
    "delete_result = coll.delete_many({'_id': {\"$in\": [\"1218914127810301953\"]} })\n",
    "delete_result.deleted_count"
   ]
  },
  {
   "cell_type": "code",
   "execution_count": null,
   "metadata": {},
   "outputs": [],
   "source": []
  },
  {
   "cell_type": "code",
   "execution_count": null,
   "metadata": {},
   "outputs": [],
   "source": [
    "coll.delete_many??"
   ]
  },
  {
   "cell_type": "code",
   "execution_count": null,
   "metadata": {},
   "outputs": [],
   "source": [
    "res = coll.aggregate([\n",
    "    {'$sort' : {\"prob\": -1}},\n",
    "    {'$limit' : 20}])"
   ]
  },
  {
   "cell_type": "code",
   "execution_count": null,
   "metadata": {},
   "outputs": [],
   "source": [
    "for doc in res:\n",
    "    print(doc)"
   ]
  },
  {
   "cell_type": "code",
   "execution_count": null,
   "metadata": {},
   "outputs": [],
   "source": [
    "docs = db.tweets.find().sort(\"prob\", -1).limit(20)"
   ]
  },
  {
   "cell_type": "code",
   "execution_count": null,
   "metadata": {},
   "outputs": [],
   "source": [
    "for doc in docs:\n",
    "    print(doc)"
   ]
  },
  {
   "cell_type": "code",
   "execution_count": null,
   "metadata": {},
   "outputs": [],
   "source": [
    "tweet = {\"id\": \"1218878079206154240\", \n",
    "         \"text\": \"all i do is sleeping and listening to lana fucking del rey I need to get a life.\",\n",
    "         \"preprocessed_text\": \"sleep listen lana fuck del rey need get life\",\n",
    "         \"class\": 1, \"prob\": 0.7438481075201294}"
   ]
  },
  {
   "cell_type": "code",
   "execution_count": null,
   "metadata": {},
   "outputs": [],
   "source": [
    "db.tweets.insert_one(tweet)"
   ]
  },
  {
   "cell_type": "code",
   "execution_count": null,
   "metadata": {},
   "outputs": [],
   "source": [
    "import sys\n",
    "import os\n",
    "sys.path.insert(0, os.path.abspath(\"../models/\"))"
   ]
  },
  {
   "cell_type": "code",
   "execution_count": null,
   "metadata": {},
   "outputs": [],
   "source": [
    "import pickle\n",
    "with open(os.path.abspath(\"../models/final_model.pkl\"), \"rb\") as f:\n",
    "    final_model = pickle.load(f)"
   ]
  },
  {
   "cell_type": "code",
   "execution_count": null,
   "metadata": {},
   "outputs": [],
   "source": [
    "from models import load_model"
   ]
  },
  {
   "cell_type": "code",
   "execution_count": null,
   "metadata": {},
   "outputs": [],
   "source": [
    "final_model = load_model()"
   ]
  },
  {
   "cell_type": "code",
   "execution_count": null,
   "metadata": {},
   "outputs": [],
   "source": [
    "final_model.predict(\"I am not satisfied my life\")"
   ]
  },
  {
   "cell_type": "code",
   "execution_count": null,
   "metadata": {},
   "outputs": [],
   "source": [
    "import six"
   ]
  },
  {
   "cell_type": "code",
   "execution_count": null,
   "metadata": {},
   "outputs": [],
   "source": [
    "class Consumer(six.Iterator):\n",
    "    def __init__(self,):\n",
    "        self.start = 0\n",
    "        self.end = 5\n",
    "        \n",
    "    def __iter__(self):\n",
    "        return self\n",
    "        \n",
    "    def __next__(self):\n",
    "        self.start = self.start + 1\n",
    "        if self.start >= self.end:\n",
    "            raise StopIteration(\"done\")\n",
    "        return self.start\n",
    "    \n",
    "c = Consumer()"
   ]
  },
  {
   "cell_type": "code",
   "execution_count": null,
   "metadata": {},
   "outputs": [],
   "source": [
    "c."
   ]
  },
  {
   "cell_type": "code",
   "execution_count": null,
   "metadata": {},
   "outputs": [],
   "source": [
    "for msg in c:\n",
    "    print(msg)"
   ]
  },
  {
   "cell_type": "code",
   "execution_count": null,
   "metadata": {},
   "outputs": [],
   "source": [
    "import json"
   ]
  },
  {
   "cell_type": "code",
   "execution_count": null,
   "metadata": {},
   "outputs": [],
   "source": [
    "def serializer(k_or_v):\n",
    "    return json.dumps(k_or_v).encode('utf-8')"
   ]
  },
  {
   "cell_type": "code",
   "execution_count": null,
   "metadata": {},
   "outputs": [],
   "source": [
    "serializer({\"text\":\"hey\"})"
   ]
  },
  {
   "cell_type": "code",
   "execution_count": null,
   "metadata": {},
   "outputs": [],
   "source": [
    "type(\"abc\")"
   ]
  },
  {
   "cell_type": "code",
   "execution_count": null,
   "metadata": {},
   "outputs": [],
   "source": [
    "s = 'abc'\n",
    "type(s)"
   ]
  },
  {
   "cell_type": "code",
   "execution_count": null,
   "metadata": {},
   "outputs": [],
   "source": [
    "isinstance(s, str)"
   ]
  },
  {
   "cell_type": "code",
   "execution_count": null,
   "metadata": {},
   "outputs": [],
   "source": [
    "import emoji"
   ]
  },
  {
   "cell_type": "code",
   "execution_count": null,
   "metadata": {},
   "outputs": [],
   "source": []
  }
 ],
 "metadata": {
  "kernelspec": {
   "display_name": "Python 3",
   "language": "python",
   "name": "python3"
  },
  "language_info": {
   "codemirror_mode": {
    "name": "ipython",
    "version": 3
   },
   "file_extension": ".py",
   "mimetype": "text/x-python",
   "name": "python",
   "nbconvert_exporter": "python",
   "pygments_lexer": "ipython3",
   "version": "3.7.4"
  }
 },
 "nbformat": 4,
 "nbformat_minor": 2
}
